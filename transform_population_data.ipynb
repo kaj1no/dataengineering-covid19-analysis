{
 "cells": [
  {
   "cell_type": "code",
   "execution_count": 0,
   "metadata": {
    "application/vnd.databricks.v1+cell": {
     "cellMetadata": {},
     "inputWidgets": {},
     "nuid": "ba939d7a-c52a-4f19-9a31-47043c789d72",
     "showTitle": false,
     "title": ""
    }
   },
   "outputs": [],
   "source": []
  },
  {
   "cell_type": "code",
   "execution_count": 0,
   "metadata": {
    "application/vnd.databricks.v1+cell": {
     "cellMetadata": {},
     "inputWidgets": {},
     "nuid": "1a090df5-be62-42ba-a45b-ade112eeab54",
     "showTitle": false,
     "title": ""
    }
   },
   "outputs": [],
   "source": []
  },
  {
   "cell_type": "code",
   "execution_count": 0,
   "metadata": {
    "application/vnd.databricks.v1+cell": {
     "cellMetadata": {},
     "inputWidgets": {},
     "nuid": "19e0226a-a407-4dd0-bbe6-22fec7751a65",
     "showTitle": false,
     "title": ""
    }
   },
   "outputs": [],
   "source": [
    "from pyspark.sql.functions import *"
   ]
  },
  {
   "cell_type": "code",
   "execution_count": 0,
   "metadata": {
    "application/vnd.databricks.v1+cell": {
     "cellMetadata": {},
     "inputWidgets": {},
     "nuid": "d9a9ff08-9ea6-4185-89ac-127df39eb952",
     "showTitle": false,
     "title": ""
    }
   },
   "outputs": [],
   "source": [
    "df_raw_population = spark.read.csv(\"/mnt/covid19reportdatalakes/raw/population\", sep=r'\\t', header=True)\n",
    "df_raw_population = df_raw_population.withColumn('age_group', regexp_replace(split(df_raw_population['indic_de,geo\\\\time'], ',')[0], 'PC_', '')).withColumn('country_code', split(df_raw_population['indic_de,geo\\\\time'], ',')[1])\n",
    "df_raw_population = df_raw_population.select(col(\"country_code\").alias(\"country_code\"),\n",
    "                                             col(\"age_group\").alias(\"age_group\"),\n",
    "                                             col(\"2019 \").alias(\"percentage_2019\"))\n",
    "df_raw_population.createOrReplaceTempView(\"raw_population\")"
   ]
  },
  {
   "cell_type": "code",
   "execution_count": 0,
   "metadata": {
    "application/vnd.databricks.v1+cell": {
     "cellMetadata": {},
     "inputWidgets": {},
     "nuid": "0a0ed7e4-ba68-4667-85ca-af503e33297b",
     "showTitle": false,
     "title": ""
    }
   },
   "outputs": [],
   "source": [
    "# Create a data frame with pivoted percentages\n",
    "df_raw_population_pivot = spark.sql(\"SELECT country_code, age_group, cast(regexp_replace(percentage_2019, '[a-z]', '') AS decimal(4,2)) AS percentage_2019 FROM raw_population WHERE length(country_code) = 2\").groupBy(\"country_code\").pivot(\"age_group\").sum(\"percentage_2019\").orderBy(\"country_code\")\n",
    "df_raw_population_pivot.createOrReplaceTempView(\"raw_population_pivot\")"
   ]
  },
  {
   "cell_type": "code",
   "execution_count": 0,
   "metadata": {
    "application/vnd.databricks.v1+cell": {
     "cellMetadata": {},
     "inputWidgets": {},
     "nuid": "895c54fb-1f0f-4405-b9fc-42e61b142486",
     "showTitle": false,
     "title": ""
    }
   },
   "outputs": [],
   "source": [
    "# Create a data frame for the country lookup\n",
    "df_dim_country = spark.read.csv(\"/mnt/covid19reportdatalakes/lookup/dim_country\", sep=r',', header=True)\n",
    "df_dim_country.createOrReplaceTempView(\"dim_country\")"
   ]
  },
  {
   "cell_type": "code",
   "execution_count": 0,
   "metadata": {
    "application/vnd.databricks.v1+cell": {
     "cellMetadata": {},
     "inputWidgets": {},
     "nuid": "0e2c601b-83e3-410e-bc78-1248142e6f99",
     "showTitle": false,
     "title": ""
    }
   },
   "outputs": [],
   "source": [
    "df_processed_population = spark.sql(\"\"\"SELECT c.country,\n",
    "       c.country_code_2_digit,\n",
    "       c.country_code_3_digit,\n",
    "       c.population,\n",
    "       p.Y0_14  AS age_group_0_14,\n",
    "       p.Y15_24 AS age_group_15_24,\n",
    "       p.Y25_49 AS age_group_25_49,\n",
    "       p.Y50_64 AS age_group_50_64, \n",
    "       p.Y65_79 AS age_group_65_79,\n",
    "       p.Y80_MAX AS age_group_80_max\n",
    "  FROM raw_population_pivot p\n",
    "  JOIN dim_country c ON p.country_code = country_code_2_digit\n",
    " ORDER BY country\"\"\")"
   ]
  },
  {
   "cell_type": "code",
   "execution_count": 0,
   "metadata": {
    "application/vnd.databricks.v1+cell": {
     "cellMetadata": {},
     "inputWidgets": {},
     "nuid": "f034317a-159e-4034-b45b-b1bc33065936",
     "showTitle": false,
     "title": ""
    }
   },
   "outputs": [],
   "source": [
    "df_processed_population.write.format(\"com.databricks.spark.csv\").option(\"header\",\"true\").option(\"delimiter\", \",\").mode(\"overwrite\").save(\"/mnt/covid19reportdatalakes/processed/population\")"
   ]
  }
 ],
 "metadata": {
  "application/vnd.databricks.v1+notebook": {
   "dashboards": [],
   "language": "python",
   "notebookMetadata": {
    "pythonIndentUnit": 4
   },
   "notebookName": "transform_population_data",
   "widgets": {}
  }
 },
 "nbformat": 4,
 "nbformat_minor": 0
}
